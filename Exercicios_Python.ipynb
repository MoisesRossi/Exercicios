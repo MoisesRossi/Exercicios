{
  "cells": [
    {
      "cell_type": "markdown",
      "metadata": {
        "colab_type": "text",
        "id": "view-in-github"
      },
      "source": [
        "<a href=\"https://colab.research.google.com/github/MoisesRossi/Exercicios/blob/main/Exercicios_pandas_1_Moises.ipynb\" target=\"_parent\"><img src=\"https://colab.research.google.com/assets/colab-badge.svg\" alt=\"Open In Colab\"/></a>"
      ]
    },
    {
      "cell_type": "markdown",
      "id": "ae10d6c1",
      "metadata": {},
      "source": [
        "#ESTRUTURA SEQUENCIAL"
      ]
    },
    {
      "cell_type": "code",
      "execution_count": 4,
      "id": "14da11ba",
      "metadata": {},
      "outputs": [
        {
          "name": "stdout",
          "output_type": "stream",
          "text": [
            "Alo mundo\n"
          ]
        }
      ],
      "source": [
        "print('Alo mundo')"
      ]
    },
    {
      "cell_type": "code",
      "execution_count": 8,
      "id": "675a7f85",
      "metadata": {},
      "outputs": [
        {
          "name": "stdout",
          "output_type": "stream",
          "text": [
            "o Numero escolhido foi 5\n"
          ]
        }
      ],
      "source": [
        "numero1 = input('Digite um numero: ')\n",
        "print(f'o Numero escolhido foi {numero1}')"
      ]
    },
    {
      "cell_type": "code",
      "execution_count": 12,
      "id": "6909a7a7",
      "metadata": {},
      "outputs": [
        {
          "name": "stdout",
          "output_type": "stream",
          "text": [
            "10 + 5 = 15\n"
          ]
        }
      ],
      "source": [
        "numero1 = int(input('Digite um numero: '))\n",
        "numero2 = int(input('Digite um numero: '))\n",
        "soma = numero1 + numero2\n",
        "print(f'{numero1} + {numero2} = {soma}')"
      ]
    },
    {
      "cell_type": "code",
      "execution_count": 18,
      "id": "35b3f270",
      "metadata": {},
      "outputs": [
        {
          "name": "stdout",
          "output_type": "stream",
          "text": [
            "Media = 6.5\n"
          ]
        }
      ],
      "source": [
        "nota1 = float(input('Digite a nota do primeiro Bimestre'))\n",
        "nota2 = float(input('Digite a nota do segundo Bimestre'))\n",
        "nota3 = float(input('Digite a nota do terceiro Bimestre'))\n",
        "nota4 = float(input('Digite a nota do quarto Bimestre'))\n",
        "media = (nota1 + nota2 + nota3 + nota4) / 4\n",
        "print(f'Media = {media}')"
      ]
    },
    {
      "cell_type": "code",
      "execution_count": 19,
      "id": "93e7802f",
      "metadata": {},
      "outputs": [
        {
          "name": "stdout",
          "output_type": "stream",
          "text": [
            "100.5m é igual a 10050.0cm\n"
          ]
        }
      ],
      "source": [
        "medida = float(input('digite uma medida em metros'))\n",
        "medidacm = medida * 100\n",
        "print(f'{medida}m é igual a {medidacm}cm')"
      ]
    },
    {
      "cell_type": "code",
      "execution_count": 21,
      "id": "86d8efc6",
      "metadata": {},
      "outputs": [
        {
          "name": "stdout",
          "output_type": "stream",
          "text": [
            "Vamos calcular a area de um quadrado\n",
            "O dobro da area é = 256.0\n"
          ]
        }
      ],
      "source": [
        "print(f'Vamos calcular a area de um quadrado')\n",
        "medida1 = float(input('Digite o valor do lado do quadrado:'))\n",
        "area = medida1 * medida1\n",
        "area1 = area ** 2\n",
        "print(f'O dobro da area é = {area1}')"
      ]
    },
    {
      "cell_type": "code",
      "execution_count": 22,
      "id": "a74f02f4",
      "metadata": {},
      "outputs": [
        {
          "name": "stdout",
          "output_type": "stream",
          "text": [
            "+ Salário Bruto : R$1007.6\n",
            "- IR (11%): R$110.836\n",
            "- INSS (8%) : R$80.608\n",
            "- Sindicato (5%) : R$50.38\n",
            "= Salário Liquido : R$765.776\n"
          ]
        }
      ],
      "source": [
        "#Exercicio 15\n",
        "valorhora = float(input('Informe o valor por hora recebido'))\n",
        "horas = float(input('Informe o numero de Horas trabalhadas'))\n",
        "salariobruto = valorhora * horas\n",
        "ir = salariobruto * 0.11\n",
        "inss = salariobruto * 0.08\n",
        "sindicato = salariobruto * 0.05\n",
        "salarioliquido = salariobruto - ir - inss - sindicato\n",
        "print(f'+ Salário Bruto : R${salariobruto}')\n",
        "print(f'- IR (11%): R${ir}')\n",
        "print(f'- INSS (8%) : R${inss}')\n",
        "print(f'- Sindicato (5%) : R${sindicato}')\n",
        "print(f'= Salário Liquido : R${salarioliquido}')"
      ]
    },
    {
      "cell_type": "markdown",
      "id": "39960b8d",
      "metadata": {},
      "source": [
        "#ESTRUTURA DE DECISÃO"
      ]
    },
    {
      "cell_type": "code",
      "execution_count": 33,
      "id": "4c85e42a",
      "metadata": {},
      "outputs": [
        {
          "name": "stdout",
          "output_type": "stream",
          "text": [
            "Salário Bruto: (5.0 * 220.0) \t : R$1100.0\n",
            "(-) IR (5%) \t\t\t : R$55.0\n",
            "(-) INSS (10%) \t\t\t : R$110.0\n",
            "(-) Sindicato (3%) \t\t : R$33.0\n",
            "FGTS (11%) \t\t\t : R$121.0\n",
            "Total de descontos \t\t : R$198.0\n",
            "= Salário Liquido \t\t : R$902.0\n"
          ]
        }
      ],
      "source": [
        "#Exercicio 12\n",
        "valorhora = float(input('Informe o valor por hora recebido'))\n",
        "horas = float(input('Informe o numero de Horas trabalhadas'))\n",
        "salariobruto = valorhora * horas\n",
        "inss = salariobruto * 0.10\n",
        "sindicato = salariobruto * 0.03\n",
        "fgts = salariobruto * 0.11\n",
        "print(f'Salário Bruto: ({valorhora} * {horas}) \\t : R${salariobruto}')\n",
        "if salariobruto < 900:\n",
        "    ir = 0\n",
        "    print(f'(-) IR (0%) \\t\\t\\t : R${ir}')\n",
        "elif salariobruto > 900 and salariobruto < 1500:\n",
        "    ir = salariobruto * 0.05\n",
        "    print(f'(-) IR (5%) \\t\\t\\t : R${ir}')\n",
        "elif salariobruto > 1500 and salariobruto < 2500:\n",
        "    ir = salariobruto * 0.1\n",
        "    print(f'(-) IR (10%) \\t\\t\\t : R${ir}')\n",
        "else:\n",
        "    ir = salariobruto * 0.20\n",
        "    print(f'(-) IR (20%) \\t\\t\\t : R${ir}')\n",
        "salarioliquido = salariobruto - ir - inss - sindicato\n",
        "totaldescontos =  inss + ir + sindicato\n",
        "print(f'(-) INSS (10%) \\t\\t\\t : R${inss}')\n",
        "print(f'(-) Sindicato (3%) \\t\\t : R${sindicato}')\n",
        "print(f'FGTS (11%) \\t\\t\\t : R${fgts}')\n",
        "print(f'Total de descontos \\t\\t : R${totaldescontos}')\n",
        "print(f'= Salário Liquido \\t\\t : R${salarioliquido}')"
      ]
    },
    {
      "cell_type": "code",
      "execution_count": 34,
      "id": "2a9d7d0f",
      "metadata": {},
      "outputs": [
        {
          "name": "stdout",
          "output_type": "stream",
          "text": [
            "Folha de Pagamento\n",
            "Salário Bruto: R$1100.00\n",
            "(-) IR: R$55.00\n",
            "(-) Sindicato: R$33.00\n",
            "FGTS: R$121.00\n",
            "Salário Líquido: R$1012.00\n"
          ]
        }
      ],
      "source": [
        "\n"
      ]
    }
  ],
  "metadata": {
    "colab": {
      "include_colab_link": true,
      "provenance": []
    },
    "kernelspec": {
      "display_name": "Python 3",
      "language": "python",
      "name": "python3"
    },
    "language_info": {
      "codemirror_mode": {
        "name": "ipython",
        "version": 3
      },
      "file_extension": ".py",
      "mimetype": "text/x-python",
      "name": "python",
      "nbconvert_exporter": "python",
      "pygments_lexer": "ipython3",
      "version": "3.11.4"
    }
  },
  "nbformat": 4,
  "nbformat_minor": 5
}
